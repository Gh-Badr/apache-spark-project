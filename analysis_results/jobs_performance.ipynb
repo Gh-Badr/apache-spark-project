{
 "cells": [
  {
   "cell_type": "markdown",
   "metadata": {},
   "source": [
    "# Description\n",
    "\n",
    "This notebook reads the performance data of the jobes from the `performance` directory and shows the performance of the jobes in a table."
   ]
  },
  {
   "cell_type": "code",
   "execution_count": 4,
   "metadata": {},
   "outputs": [],
   "source": [
    "import pandas as pd\n",
    "import glob"
   ]
  },
  {
   "cell_type": "code",
   "execution_count": 6,
   "metadata": {},
   "outputs": [
    {
     "name": "stdout",
     "output_type": "stream",
     "text": [
      "['performance/q1_performance_metrics_1736699369.csv', 'performance/q2_performance_metrics_1736699518.csv', 'performance/q3_performance_metrics_1736700092.csv', 'performance/q4_performance_metrics_1736700640.csv', 'performance/q5_bonus1_performance_metrics_1736702121.csv', 'performance/q6_performance_metrics_1736702746.csv', 'performance/q8_performance_metrics_1736718629.csv', 'performance/q9_bonus2_performance_metrics_1736719852.csv']\n"
     ]
    }
   ],
   "source": [
    "\n",
    "dfs = []\n",
    "files = glob.glob('performance/*.csv')\n",
    "print(files)\n",
    "for file in files:\n",
    "    df = pd.read_csv(file)\n",
    "    # Drop the rows with the metrics jobs_records\ttasks_records if they are present\n",
    "    df = df[~df['metric'].str.contains('jobs_records|tasks_records')]\n",
    "    # add first 10 characters of the filename as a column\n",
    "    df['filename'] = file.split('/')[-1][:10]\n",
    "    dfs.append(df)"
   ]
  },
  {
   "cell_type": "code",
   "execution_count": 7,
   "metadata": {},
   "outputs": [
    {
     "name": "stderr",
     "output_type": "stream",
     "text": [
      "/tmp/ipykernel_376509/3734028902.py:4: FutureWarning: Setting an item of incompatible dtype is deprecated and will raise an error in a future version of pandas. Value '['00:00:27' '00:00:13']' has dtype incompatible with float64, please explicitly cast to a compatible dtype first.\n",
      "  df.loc[mask, 'value'] = pd.to_datetime(df.loc[mask, 'value'].astype(float), unit='s').dt.strftime('%H:%M:%S')\n",
      "/tmp/ipykernel_376509/3734028902.py:4: FutureWarning: Setting an item of incompatible dtype is deprecated and will raise an error in a future version of pandas. Value '['00:00:27' '00:00:21']' has dtype incompatible with float64, please explicitly cast to a compatible dtype first.\n",
      "  df.loc[mask, 'value'] = pd.to_datetime(df.loc[mask, 'value'].astype(float), unit='s').dt.strftime('%H:%M:%S')\n",
      "/tmp/ipykernel_376509/3734028902.py:4: FutureWarning: Setting an item of incompatible dtype is deprecated and will raise an error in a future version of pandas. Value '['00:01:44' '00:02:50']' has dtype incompatible with float64, please explicitly cast to a compatible dtype first.\n",
      "  df.loc[mask, 'value'] = pd.to_datetime(df.loc[mask, 'value'].astype(float), unit='s').dt.strftime('%H:%M:%S')\n",
      "/tmp/ipykernel_376509/3734028902.py:4: FutureWarning: Setting an item of incompatible dtype is deprecated and will raise an error in a future version of pandas. Value '['00:00:59' '00:01:53']' has dtype incompatible with float64, please explicitly cast to a compatible dtype first.\n",
      "  df.loc[mask, 'value'] = pd.to_datetime(df.loc[mask, 'value'].astype(float), unit='s').dt.strftime('%H:%M:%S')\n",
      "/tmp/ipykernel_376509/3734028902.py:4: FutureWarning: Setting an item of incompatible dtype is deprecated and will raise an error in a future version of pandas. Value '['00:01:28' '00:08:06']' has dtype incompatible with float64, please explicitly cast to a compatible dtype first.\n",
      "  df.loc[mask, 'value'] = pd.to_datetime(df.loc[mask, 'value'].astype(float), unit='s').dt.strftime('%H:%M:%S')\n",
      "/tmp/ipykernel_376509/3734028902.py:4: FutureWarning: Setting an item of incompatible dtype is deprecated and will raise an error in a future version of pandas. Value '['00:00:55' '00:04:29']' has dtype incompatible with float64, please explicitly cast to a compatible dtype first.\n",
      "  df.loc[mask, 'value'] = pd.to_datetime(df.loc[mask, 'value'].astype(float), unit='s').dt.strftime('%H:%M:%S')\n",
      "/tmp/ipykernel_376509/3734028902.py:4: FutureWarning: Setting an item of incompatible dtype is deprecated and will raise an error in a future version of pandas. Value '['00:01:52' '00:18:41']' has dtype incompatible with float64, please explicitly cast to a compatible dtype first.\n",
      "  df.loc[mask, 'value'] = pd.to_datetime(df.loc[mask, 'value'].astype(float), unit='s').dt.strftime('%H:%M:%S')\n",
      "/tmp/ipykernel_376509/3734028902.py:4: FutureWarning: Setting an item of incompatible dtype is deprecated and will raise an error in a future version of pandas. Value '['00:00:45' '00:08:03']' has dtype incompatible with float64, please explicitly cast to a compatible dtype first.\n",
      "  df.loc[mask, 'value'] = pd.to_datetime(df.loc[mask, 'value'].astype(float), unit='s').dt.strftime('%H:%M:%S')\n"
     ]
    }
   ],
   "source": [
    "# For each df change the reading_time & processing_time from seconds to a readable format (HH:MM:SS)\n",
    "for df in dfs:\n",
    "    mask = df['metric'].isin(['reading_time', 'processing_time'])\n",
    "    df.loc[mask, 'value'] = pd.to_datetime(df.loc[mask, 'value'].astype(float), unit='s').dt.strftime('%H:%M:%S')"
   ]
  },
  {
   "cell_type": "code",
   "execution_count": 8,
   "metadata": {},
   "outputs": [],
   "source": [
    "def format_records(value):\n",
    "    num = int(value)\n",
    "    if num >= 1_000_000:\n",
    "        return f'{num / 1_000_000:.1f}M'\n",
    "    elif num >= 1_000:\n",
    "        return f'{num / 1_000:.1f}k'\n",
    "    else:\n",
    "        return str(num)\n",
    "\n",
    "for df in dfs:\n",
    "    mask = df['metric'].str.endswith('_records')\n",
    "    df.loc[mask, 'value'] = df.loc[mask, 'value'].apply(format_records)"
   ]
  },
  {
   "cell_type": "code",
   "execution_count": 9,
   "metadata": {},
   "outputs": [],
   "source": [
    "# Initialize an empty list to hold the processed data\n",
    "rows = []\n",
    "\n",
    "# Process each dataframe\n",
    "for idx, df in enumerate(dfs):\n",
    "    # Extract the question ID (e.g., q1, q2, ...)\n",
    "    question_id = f'Question {idx + 1}'\n",
    "    # Convert the dataframe to a dictionary of metrics and add the question ID\n",
    "    row = {row['metric']: row['value'] for _, row in df.iterrows()}\n",
    "    row['filename'] = df['filename'].iloc[0]\n",
    "    rows.append(row)\n",
    "\n",
    "# Create a dataframe from the list of rows\n",
    "combined_df = pd.DataFrame(rows)\n",
    "\n",
    "# Fill missing values with a placeholder (e.g., '-')\n",
    "combined_df = combined_df.fillna('-')\n",
    "\n"
   ]
  },
  {
   "cell_type": "code",
   "execution_count": 11,
   "metadata": {},
   "outputs": [
    {
     "data": {
      "text/html": [
       "<div>\n",
       "<style scoped>\n",
       "    .dataframe tbody tr th:only-of-type {\n",
       "        vertical-align: middle;\n",
       "    }\n",
       "\n",
       "    .dataframe tbody tr th {\n",
       "        vertical-align: top;\n",
       "    }\n",
       "\n",
       "    .dataframe thead th {\n",
       "        text-align: right;\n",
       "    }\n",
       "</style>\n",
       "<table border=\"1\" class=\"dataframe\">\n",
       "  <thead>\n",
       "    <tr style=\"text-align: right;\">\n",
       "      <th></th>\n",
       "      <th>reading_time</th>\n",
       "      <th>processing_time</th>\n",
       "      <th>total_records</th>\n",
       "      <th>filename</th>\n",
       "      <th>questions</th>\n",
       "    </tr>\n",
       "  </thead>\n",
       "  <tbody>\n",
       "    <tr>\n",
       "      <th>0</th>\n",
       "      <td>00:00:27</td>\n",
       "      <td>00:00:13</td>\n",
       "      <td>37.8k</td>\n",
       "      <td>q1_perform</td>\n",
       "      <td>1</td>\n",
       "    </tr>\n",
       "    <tr>\n",
       "      <th>1</th>\n",
       "      <td>00:00:27</td>\n",
       "      <td>00:00:21</td>\n",
       "      <td>37.8k</td>\n",
       "      <td>q2_perform</td>\n",
       "      <td>2</td>\n",
       "    </tr>\n",
       "    <tr>\n",
       "      <th>2</th>\n",
       "      <td>00:01:44</td>\n",
       "      <td>00:02:50</td>\n",
       "      <td>146.7M</td>\n",
       "      <td>q3_perform</td>\n",
       "      <td>3</td>\n",
       "    </tr>\n",
       "    <tr>\n",
       "      <th>3</th>\n",
       "      <td>00:00:59</td>\n",
       "      <td>00:01:53</td>\n",
       "      <td>144.6M</td>\n",
       "      <td>q4_perform</td>\n",
       "      <td>4</td>\n",
       "    </tr>\n",
       "    <tr>\n",
       "      <th>4</th>\n",
       "      <td>00:01:28</td>\n",
       "      <td>00:08:06</td>\n",
       "      <td>144.7M</td>\n",
       "      <td>q5_bonus1_</td>\n",
       "      <td>5</td>\n",
       "    </tr>\n",
       "    <tr>\n",
       "      <th>5</th>\n",
       "      <td>00:00:55</td>\n",
       "      <td>00:04:29</td>\n",
       "      <td>144.6M</td>\n",
       "      <td>q6_perform</td>\n",
       "      <td>6</td>\n",
       "    </tr>\n",
       "    <tr>\n",
       "      <th>6</th>\n",
       "      <td>00:01:52</td>\n",
       "      <td>00:18:41</td>\n",
       "      <td>1377.4M</td>\n",
       "      <td>q8_perform</td>\n",
       "      <td>8</td>\n",
       "    </tr>\n",
       "    <tr>\n",
       "      <th>7</th>\n",
       "      <td>00:00:45</td>\n",
       "      <td>00:08:03</td>\n",
       "      <td>1232.8M</td>\n",
       "      <td>q9_bonus2_</td>\n",
       "      <td>9</td>\n",
       "    </tr>\n",
       "  </tbody>\n",
       "</table>\n",
       "</div>"
      ],
      "text/plain": [
       "  reading_time processing_time total_records    filename  questions\n",
       "0     00:00:27        00:00:13         37.8k  q1_perform          1\n",
       "1     00:00:27        00:00:21         37.8k  q2_perform          2\n",
       "2     00:01:44        00:02:50        146.7M  q3_perform          3\n",
       "3     00:00:59        00:01:53        144.6M  q4_perform          4\n",
       "4     00:01:28        00:08:06        144.7M  q5_bonus1_          5\n",
       "5     00:00:55        00:04:29        144.6M  q6_perform          6\n",
       "6     00:01:52        00:18:41       1377.4M  q8_perform          8\n",
       "7     00:00:45        00:08:03       1232.8M  q9_bonus2_          9"
      ]
     },
     "execution_count": 11,
     "metadata": {},
     "output_type": "execute_result"
    }
   ],
   "source": [
    "from matplotlib import pyplot as plt\n",
    "import re\n",
    "\n",
    "def extract_question(filename):\n",
    "    \"\"\"Extract the number of the question number from the filename.\"\"\"\n",
    "    match = re.search(r'q(\\d+)', filename)\n",
    "    return int(match.group(1)) if match else None\n",
    "\n",
    "# Extract cores and convert times to seconds\n",
    "combined_df['questions'] = combined_df['filename'].apply(extract_question)\n",
    "\n",
    "# Sort by number of cores\n",
    "combined_df = combined_df.sort_values('questions')\n",
    "\n",
    "combined_df.head(10)"
   ]
  }
 ],
 "metadata": {
  "kernelspec": {
   "display_name": "Python 3",
   "language": "python",
   "name": "python3"
  },
  "language_info": {
   "codemirror_mode": {
    "name": "ipython",
    "version": 3
   },
   "file_extension": ".py",
   "mimetype": "text/x-python",
   "name": "python",
   "nbconvert_exporter": "python",
   "pygments_lexer": "ipython3",
   "version": "3.10.12"
  }
 },
 "nbformat": 4,
 "nbformat_minor": 2
}
